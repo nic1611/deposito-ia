{
 "cells": [
  {
   "cell_type": "markdown",
   "metadata": {
    "id": "A1eaRA1fD2PW"
   },
   "source": [
    "![alt text](https://encrypted-tbn0.gstatic.com/images?q=tbn%3AANd9GcTK4gQ9nhwHHaSXMHpeggWg7twwMCgb877smkRmtkmDeDoGF9Z6&usqp=CAU)"
   ]
  },
  {
   "cell_type": "markdown",
   "metadata": {
    "id": "-nj-CYSnS7Sy"
   },
   "source": [
    "# <font color='blue'>\"Dicas e Truques\" de Ciência de Dados</font>\n",
    "# <font color='Green'> Sua 1° Máquina Preditiva com Regressão Linear</font>\n",
    "\n",
    "\n"
   ]
  },
  {
   "cell_type": "markdown",
   "metadata": {
    "id": "gPOG8i_oubhp"
   },
   "source": [
    "![](https://ichi.pro/assets/images/max/724/1*dJE1xuHWTmtdXGElcbfTOA.gif)"
   ]
  },
  {
   "cell_type": "markdown",
   "metadata": {
    "id": "fFr08zUmnWMK"
   },
   "source": [
    "#Aprendizado de Máquina e Inteligência Artificial \n",
    "Essas são algumas palavras no mundo atual que **chamam a atenção** de quase todos. Alguns querem se beneficiar dessas tecnologias e outros querem fazer carreira nelas. Esse Vídeo é principalmente **para aqueles que desejam fazer** carreira nessas áreas ou apenas interessados ​​em conhecer o funcionamento dessa parada muito massa.\n",
    "\n",
    "![](https://media2.giphy.com/media/l1J9Kauhqh6BsVK80/giphy.gif)\n"
   ]
  },
  {
   "cell_type": "markdown",
   "metadata": {
    "id": "jo9W8C_wva6s"
   },
   "source": [
    "#... mas muitos travam por \n",
    "Achar palavras como **Estatística, Probabilidade e Regressão** intimidantes... É completamente compreensível se sentir assim, especialmente se você **vem de uma formação não técnica**. Mas existe uma solução para isso: Entender que não é esse bixo de 7 cabeças.... \n",
    "\n",
    "![](https://thumbs.gfycat.com/BonyTotalArthropods-size_restricted.gif)\n",
    "\n"
   ]
  },
  {
   "cell_type": "markdown",
   "metadata": {
    "id": "3KGyekTDwlEC"
   },
   "source": [
    "### Portanto, comece pequeno. Babysteps...\n",
    "![](https://one_org_international.s3.amazonaws.com/international/media/international/2015/01/first-steps_5166836_GIFSoup.com_.gif)"
   ]
  },
  {
   "cell_type": "markdown",
   "metadata": {
    "id": "AOthkGd2nWhq"
   },
   "source": [
    "#**Regressão linear simples**\n",
    "![](![](https://ichi.pro/assets/images/max/724/1*dJE1xuHWTmtdXGElcbfTOA.gif))"
   ]
  },
  {
   "cell_type": "markdown",
   "metadata": {
    "id": "YZXJJfAJnW-C"
   },
   "source": [
    "#O que é? Quando usamos LR?"
   ]
  },
  {
   "cell_type": "markdown",
   "metadata": {
    "id": "bHkXvmvXnXAp"
   },
   "source": [
    "Vamos criar um modelo simples de aprendizado de máquina usando regressão linear. Mas antes de passar para a parte de codificação, vamos examinar os **fundamentos** e a **lógica** por trás dessa parada."
   ]
  },
  {
   "cell_type": "markdown",
   "metadata": {
    "id": "9gdcFwiWn5GZ"
   },
   "source": [
    "A regressão é usada como algoritmo de **aprendizado de máquina supervisionado**, que é o algoritmo mais usado no momento. A análise de regressão é um método onde estabelecemos uma relação entre uma **variável dependente** (y) e uma **variável independente** (x); portanto, permitindo-nos prever e prever os resultados. \n",
    "\n",
    "![](https://encrypted-tbn0.gstatic.com/images?q=tbn:ANd9GcS3E2cGeLpmfuEh3yytfhU1gTGqc3PnRqOLJQ&usqp=CAU)"
   ]
  },
  {
   "cell_type": "markdown",
   "metadata": {
    "id": "tq-yqkH_yFNi"
   },
   "source": [
    "### Você se lembra...."
   ]
  },
  {
   "cell_type": "markdown",
   "metadata": {
    "id": "jaCSDK0Cxtt0"
   },
   "source": [
    "Você se lembra de resolver equações como **y = mx + c** em seus tempos de escola? Se sim, então parabéns. **Você já conhece a Regressão Linear Simples**. Do contrário, não é nada difícil aprender."
   ]
  },
  {
   "cell_type": "markdown",
   "metadata": {
    "id": "rtbiBFqd0dIO"
   },
   "source": [
    "![](https://lh3.googleusercontent.com/proxy/2xNSzJTgCTsnfIGqcZ75PxP2OxgmyM8P0gjWgtq4KPrOS_XwR186NRjKMov4J_jSebCtP4ODVpHssDtdK0NqcDB0T-YlNzpMYKwKYeI)"
   ]
  },
  {
   "cell_type": "markdown",
   "metadata": {
    "id": "lpZ8QwVPn5Nz"
   },
   "source": [
    "Vamos considerar um exemplo popular. O **número de horas investidas no estudo** e as **notas obtidas no exame**. Aqui, as notas obtidas dependem do número de horas que um aluno investe no estudo, portanto, as **notas obtidas são a variável dependente y e o número de horas é a variável independente x**. \n",
    "\n",
    "* O objetivo é desenvolver uma Máquina Preditiva que nos ajude a **prever as notas obtidas** para um novo número de horas. \n",
    "\n",
    "* Vamos fazer isso usando Regressão Linear.\n",
    "\n"
   ]
  },
  {
   "cell_type": "markdown",
   "metadata": {
    "id": "MwWz0dRLn5QW"
   },
   "source": [
    "![](https://www.chilimath.com/wp-content/uploads/2018/05/slope-intercept-form.png)"
   ]
  },
  {
   "cell_type": "markdown",
   "metadata": {
    "id": "MQD-6BtD0341"
   },
   "source": [
    "Essa é a equação da linha de regressão que melhor se ajusta aos dados. \n",
    "\n",
    "Aqui,\n",
    "\n",
    "**y** é a variável dependente, neste caso, **notas obtidas.**\n",
    "\n",
    "**x** é a variável independente, neste caso, **número de horas**.\n",
    "\n",
    "**m** é a inclinação(Slope) da linha de regressão e o coeficiente da variável independente.\n",
    "\n",
    "**b** é a interceptação da linha de regressão."
   ]
  },
  {
   "cell_type": "markdown",
   "metadata": {
    "id": "MTSSDKs_n5Sw"
   },
   "source": [
    "A lógica é calcular a inclinação **(m)** e interceptar **(b)** com os dados disponíveis e então\n",
    "\n",
    " **poderemos calcular o valor de y para qualquer valor de x.**"
   ]
  },
  {
   "cell_type": "markdown",
   "metadata": {
    "id": "1hIHAX2_19_o"
   },
   "source": [
    "#Como fazer essa parada em Python?"
   ]
  },
  {
   "cell_type": "markdown",
   "metadata": {
    "id": "IOj9pwfbn5VW"
   },
   "source": [
    "Precisamos importar alguns **pacotes** como **NumPy** para trabalhar com matrizes, **Sklearn** para realizar regressão linear e **Matplotlib** para traçar a linha de regressão e os gráficos. \n",
    "\n",
    "Lembre-se de que **é quase impossível** ter conhecimento de cada pacote e biblioteca em Python, especialmente para iniciantes.\n",
    "\n",
    "![](https://miro.medium.com/max/603/0*RSHaCzm8VQ-DFQOv)"
   ]
  },
  {
   "cell_type": "markdown",
   "metadata": {
    "id": "j6okqMw2n5X6"
   },
   "source": [
    "Portanto, é aconselhável **limitar-se a pesquisar o pacote adequado quando necessário para uma tarefa (nada de decoreba)**. É mais fácil lembrar o uso de pacotes com experiência prática envolvida, ao invés de apenas ler teoricamente a documentação disponível sobre eles.\n"
   ]
  },
  {
   "cell_type": "markdown",
   "metadata": {
    "id": "Smrq1GlU2tyP"
   },
   "source": [
    "# Hands On"
   ]
  },
  {
   "cell_type": "code",
   "execution_count": 1,
   "metadata": {
    "id": "H7q92b8JoqB3"
   },
   "outputs": [],
   "source": [
    "#importação de Pacotes\n",
    "import numpy as np                                  # Matrizes\n",
    "import matplotlib.pyplot as plt                     # Gráficos\n",
    "from sklearn.linear_model import LinearRegression   # Máquina Preditiva"
   ]
  },
  {
   "cell_type": "markdown",
   "metadata": {
    "id": "bavj5NiLo83b"
   },
   "source": [
    "Considerando que este é seu primeiro modelo de aprendizado de máquina, eliminaremos algumas complicações tomando uma amostra muito pequena, em vez de usar dados de um grande banco de dados. Isso também ajudará a ver claramente o resultado nos gráficos e a apreciar o conceito de maneira muito mais didática e eficaz."
   ]
  },
  {
   "cell_type": "code",
   "execution_count": 2,
   "metadata": {
    "id": "4OcmcUHUo9cZ"
   },
   "outputs": [],
   "source": [
    "#Criar os dados da Variável independente (explicativa)\n",
    "xpoints = np.array([10, 11, 12, 13, 14, 15]).reshape(-1,1)\n"
   ]
  },
  {
   "cell_type": "markdown",
   "metadata": {
    "id": "FO8Ired7pQFn"
   },
   "source": [
    "##### **Obs**: a função **reshape(-1,1)** é para remodelar os xpoints **para ter 1 coluna e muitas linhas**. O preditor (x) **precisa ser uma matriz de matrizes e a resposta (y) pode ser uma matriz simples.**"
   ]
  },
  {
   "cell_type": "code",
   "execution_count": 3,
   "metadata": {
    "id": "mQU-lldP3CbS"
   },
   "outputs": [],
   "source": [
    "#Criar os dados da Variável Dependente ( Variável a ser predita)\n",
    "ypoints = np.array([53, 52, 60, 63, 72, 70])"
   ]
  },
  {
   "cell_type": "markdown",
   "metadata": {
    "id": "YQ5398CGpmSn"
   },
   "source": [
    "A Máquina Preditiva é criada com o algoritmo **LinearRegression**. Esse algoritmo pode receber Hiper-parâmetros opcionais. Eles não são necessários para este exemplo, portanto, vamos ignorá-los.\n",
    "\n",
    "Como o nome sugere, o método **.fit()** é para treinar e estimar os parâmetros do modelo, o que significa que ele calcula o valor otimizado de **m e b** usando os dados fornecidos."
   ]
  },
  {
   "cell_type": "markdown",
   "metadata": {
    "id": "4hV75BRu36Iv"
   },
   "source": [
    "![](http://www.cavalcanteassociados.com.br/files/rqua_729.gif)"
   ]
  },
  {
   "cell_type": "code",
   "execution_count": 4,
   "metadata": {
    "id": "03Ucqz0MpnnL"
   },
   "outputs": [],
   "source": [
    "#Criando a Máquina Preditiva - Escolher o Algoritmo\n",
    "maquina_preditiva = LinearRegression()\n"
   ]
  },
  {
   "cell_type": "code",
   "execution_count": 5,
   "metadata": {
    "id": "k63a_zi24SXB"
   },
   "outputs": [
    {
     "data": {
      "text/plain": [
       "LinearRegression()"
      ]
     },
     "execution_count": 5,
     "metadata": {},
     "output_type": "execute_result"
    }
   ],
   "source": [
    "# Treinando a Máquina Preditiva - Passando os dados \n",
    "maquina_preditiva.fit(xpoints, ypoints)"
   ]
  },
  {
   "cell_type": "markdown",
   "metadata": {
    "id": "rgto6ofY4Z2u"
   },
   "source": [
    "### **Após o Treinamento a gente faz as Previsões com a função \"Predict\"**\n",
    "\n",
    "O método .predict () é usado para obter a resposta prevista usando o modelo e leva o preditor xpoints como argumento."
   ]
  },
  {
   "cell_type": "code",
   "execution_count": 6,
   "metadata": {
    "id": "eqMu_K2IpqRI"
   },
   "outputs": [],
   "source": [
    "#Novas Previsões => y_pred\n",
    "y_pred = maquina_preditiva.predict(xpoints)"
   ]
  },
  {
   "cell_type": "markdown",
   "metadata": {
    "id": "VFLQbfmlp3QQ"
   },
   "source": [
    "Agora, imprima y_pred e observe que os valores estão bem próximos de ypoints . Se as respostas previstas e reais tiverem valores próximos, isso significa que o modelo é preciso. Em um caso ideal, os valores de resposta previstos e reais se sobreporiam."
   ]
  },
  {
   "cell_type": "code",
   "execution_count": 7,
   "metadata": {
    "id": "c8KJAQRYqKql"
   },
   "outputs": [
    {
     "data": {
      "image/png": "[encoded data removed]",
      "text/plain": [
       "<Figure size 432x288 with 1 Axes>"
      ]
     },
     "metadata": {
      "needs_background": "light"
     },
     "output_type": "display_data"
    }
   ],
   "source": [
    "#Análise Gráfica dos Resultados com Matplotlib\n",
    "plt.scatter(xpoints, ypoints)\n",
    "plt.plot(xpoints, y_pred)\n",
    "plt.xlabel('x-points-ou horas de estudo')\n",
    "plt.ylabel('y-points”ou nota na Prova')\n",
    "plt.show()"
   ]
  },
  {
   "cell_type": "markdown",
   "metadata": {
    "id": "I8w8fr_Bp9I4"
   },
   "source": [
    "##### Traçamos os gráficos usando a **função \".scatter()\"** que leva xpoints e ypoints como argumentos. \n",
    "\n"
   ]
  },
  {
   "cell_type": "code",
   "execution_count": 8,
   "metadata": {
    "id": "xBbei82vp9X0"
   },
   "outputs": [
    {
     "name": "stdout",
     "output_type": "stream",
     "text": [
      "[4.22857143]\n"
     ]
    }
   ],
   "source": [
    "#Obtem o coeficiente da variável x (ou a inclinação, também chamada de slope....tudo a mesma coisa...), que nesse caso é o \"m\" da equação\n",
    "print(maquina_preditiva.coef_)\n"
   ]
  },
  {
   "cell_type": "code",
   "execution_count": 9,
   "metadata": {
    "id": "mDd65D9x6Gs3"
   },
   "outputs": [
    {
     "name": "stdout",
     "output_type": "stream",
     "text": [
      "8.809523809523803\n"
     ]
    }
   ],
   "source": [
    "#Obtem o valor do intercept ou o valor \"b\" da equação\n",
    "print(maquina_preditiva.intercept_)"
   ]
  },
  {
   "cell_type": "markdown",
   "metadata": {
    "id": "tTxRfGbH6c2s"
   },
   "source": [
    "![](https://www.chilimath.com/wp-content/uploads/2018/05/slope-intercept-form.png)"
   ]
  },
  {
   "cell_type": "markdown",
   "metadata": {
    "id": "9vOfImM46l3V"
   },
   "source": [
    "# Cara, agora vc já construiu sua 1° Máquina Preditiva\n",
    "![](https://media2.giphy.com/media/cnuNz0fTBIUGnx4F9T/giphy.gif)"
   ]
  },
  {
   "cell_type": "markdown",
   "metadata": {
    "id": "day126BmqFHI"
   },
   "source": [
    "Agora faça novas previsões com sua máquina. Tente prever a nota do cara  \"y_new\" para **um novo valor de horas de estudo** (novo valor da variável 'x' ...) x_new = 16. \n",
    "\n"
   ]
  },
  {
   "cell_type": "markdown",
   "metadata": {
    "id": "Ay_WQ1QHqnxy"
   },
   "source": [
    "##A equação da linha de regressão é **y = 4,23x + 8,80**. \n",
    "\n",
    "Então, de acordo com a equação, quando **x = 16**,\n",
    "\n",
    "**y = 4,23 * (16) + 8,80 = 76,48** \n",
    "\n",
    "![](http://1.bp.blogspot.com/_HqjPVvZ1cRI/SCXzU7pma2I/AAAAAAAABVI/rMhzgzazEW8/s400/regressao-yx.gif)"
   ]
  },
  {
   "cell_type": "markdown",
   "metadata": {
    "id": "PxwwQWXu7cQ_"
   },
   "source": [
    "####**Fazendo novas previsões com sua 1° Máquina Preditiva**"
   ]
  },
  {
   "cell_type": "code",
   "execution_count": 10,
   "metadata": {
    "id": "u3TcvAcHqTjS"
   },
   "outputs": [],
   "source": [
    "# Você vai estimar a nota do aluno com base no seu tempo de estudo de 16 horas\n",
    "# Obs: Antes, vc precisa entregar os dados no formato de Matriz (array)\n",
    "x_new = np.array([16]).reshape(-1,1)"
   ]
  },
  {
   "cell_type": "code",
   "execution_count": 11,
   "metadata": {
    "id": "ViABFfUC7GgN"
   },
   "outputs": [
    {
     "name": "stdout",
     "output_type": "stream",
     "text": [
      "A nota estimada é de ==> [76.46666667]\n"
     ]
    }
   ],
   "source": [
    "# Prevendo a nota com sua Máquina\n",
    "y_new = maquina_preditiva.predict(x_new)\n",
    "print('A nota estimada é de ==>', y_new)"
   ]
  },
  {
   "cell_type": "markdown",
   "metadata": {
    "id": "g-sE-CuB85ku"
   },
   "source": [
    "## Como podemos avaliar nossa Máquina Preditiva?\n",
    "![](https://raw.githubusercontent.com/arvention/linear-regression/master/animation.gif)"
   ]
  },
  {
   "cell_type": "markdown",
   "metadata": {
    "id": "8_uprrn1qvIY"
   },
   "source": [
    "Podemos usar o método **.score()** que usa as amostras x e y como seus 2 argumentos para encontrar **R2** ou o coeficiente de determinação (Uma das várias Métricas de avaliação das Máquinas). \n",
    "\n",
    "O melhor valor para **R2** é 1,0 e ele pode assumir valores negativos também, pois o modelo pode ser pior. Um valor mais próximo de R2 igual a 1,0 indica a **eficiência** da nossa Máquina Preditiva."
   ]
  },
  {
   "cell_type": "code",
   "execution_count": 12,
   "metadata": {
    "id": "uhaPfaHfqvZM"
   },
   "outputs": [
    {
     "data": {
      "text/plain": [
       "0.8957470010905126"
      ]
     },
     "execution_count": 12,
     "metadata": {},
     "output_type": "execute_result"
    }
   ],
   "source": [
    "maquina_preditiva.score(xpoints, ypoints)"
   ]
  },
  {
   "cell_type": "markdown",
   "metadata": {
    "id": "kWv9B1DAq0OE"
   },
   "source": [
    "###**O valor de R2 é 0,89. Portanto, a previsão do modelo é confiável.**"
   ]
  },
  {
   "cell_type": "markdown",
   "metadata": {
    "id": "rUqFIiJqAMCT"
   },
   "source": [
    "#**Resumão**"
   ]
  },
  {
   "cell_type": "markdown",
   "metadata": {
    "id": "sV9fcQzMq-sa"
   },
   "source": [
    "Essa Foi sua 1° Máquina Preditiva com o Algoritmo **Regressão Liner Simples.**\n",
    "\n",
    "Quando estiver confortável com isso, você pode ir um passo à frente e pode usar um conjunto de dados maior. \n",
    "\n",
    "Por exemplo, um dataset da [UCI](https://archive.ics.uci.edu/ml/index.php) por Exemplo.  Nesse caso, você precisará trabalhar com os pacotes Pandas e NumPy. A seguir, você pode tentar um modelo de **regressão linear múltipla** ou **logística**. "
   ]
  },
  {
   "cell_type": "markdown",
   "metadata": {
    "id": "XA3vP22PxRaT"
   },
   "source": [
    "\n",
    "\n",
    "\n",
    "![](https://miro.medium.com/max/1280/1*eeIvlwkMNG1wSmj3FR6M2g.gif)\n",
    "\n",
    "\n",
    "\n",
    "\n",
    "\n",
    "\n",
    "\n"
   ]
  },
  {
   "cell_type": "markdown",
   "metadata": {
    "id": "fzpjGPZ1AESx"
   },
   "source": [
    "#Simbóra!"
   ]
  },
  {
   "cell_type": "markdown",
   "metadata": {
    "id": "SLF6vuqmxTUL"
   },
   "source": [
    "#Fim\n",
    "![](https://img.computersm.com/img/around-the-home/how-to-make-animated-gifs-in-paint.net)"
   ]
  },
  {
   "cell_type": "markdown",
   "metadata": {
    "id": "ThxYRK6DfJ3f"
   },
   "source": [
    "### #YouTube - Mais Aulas como essa no YouTube \n",
    "https://www.youtube.com/channel/UCd3ThZLzVDDnKSZMsbK0icg?sub_confirmation=1"
   ]
  },
  {
   "cell_type": "markdown",
   "metadata": {
    "id": "_2DT4SBZRDP-"
   },
   "source": [
    "### #Links - Ciência dos Dados <a href=\"https://linktr.ee/cienciadosdados\">https://linktr.ee/cienciadosdados</a>"
   ]
  },
  {
   "cell_type": "code",
   "execution_count": 13,
   "metadata": {
    "colab": {
     "base_uri": "https://localhost:8080/",
     "height": 421
    },
    "id": "_pg8zEm-Nv6Y",
    "outputId": "ed243ff0-1917-446e-beba-b264810d5e95"
   },
   "outputs": [
    {
     "name": "stderr",
     "output_type": "stream",
     "text": [
      "/home/nico/.local/lib/python3.8/site-packages/IPython/core/display.py:717: UserWarning: Consider using IPython.display.IFrame instead\n",
      "  warnings.warn(\"Consider using IPython.display.IFrame instead\")\n"
     ]
    },
    {
     "data": {
      "text/html": [
       "<iframe width=\"680\" height=\"400\" src=\"https://www.youtube.com/embed/O8SZGlSFnwo\" frameborder=\"0\" allow=\"accelerometer; autoplay; clipboard-write; encrypted-media; gyroscope; picture-in-picture\" allowfullscreen></iframe>"
      ],
      "text/plain": [
       "<IPython.core.display.HTML object>"
      ]
     },
     "execution_count": 13,
     "metadata": {},
     "output_type": "execute_result"
    }
   ],
   "source": [
    "from IPython.core.display import HTML\n",
    "HTML('<iframe width=\"680\" height=\"400\" src=\"https://www.youtube.com/embed/O8SZGlSFnwo\" frameborder=\"0\" allow=\"accelerometer; autoplay; clipboard-write; encrypted-media; gyroscope; picture-in-picture\" allowfullscreen></iframe>')"
   ]
  },
  {
   "cell_type": "markdown",
   "metadata": {
    "id": "eKw2BlDi8S9F"
   },
   "source": [
    "####Links fontes: \n",
    "\n",
    "https://www.analyticsvidhya.com/blog/2021/02/build-your-first-linear-regression-machine-learning-model/"
   ]
  }
 ],
 "metadata": {
  "colab": {
   "collapsed_sections": [],
   "name": "Sua 1° Máquina Preditiva.ipynb",
   "provenance": []
  },
  "kernelspec": {
   "display_name": "Python 3",
   "language": "python",
   "name": "python3"
  },
  "language_info": {
   "codemirror_mode": {
    "name": "ipython",
    "version": 3
   },
   "file_extension": ".py",
   "mimetype": "text/x-python",
   "name": "python",
   "nbconvert_exporter": "python",
   "pygments_lexer": "ipython3",
   "version": "3.8.5"
  }
 },
 "nbformat": 4,
 "nbformat_minor": 1
}
