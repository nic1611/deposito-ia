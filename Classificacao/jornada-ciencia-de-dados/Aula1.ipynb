{
  "nbformat": 4,
  "nbformat_minor": 0,
  "metadata": {
    "colab": {
      "name": "Script_Notebook_Venture_Capital_Aula1.ipynb",
      "provenance": [],
      "collapsed_sections": [
        "uuZT34BTj8IQ",
        "-8LQxotDkDsX"
      ]
    },
    "kernelspec": {
      "display_name": "Python 3",
      "language": "python",
      "name": "python3"
    },
    "language_info": {
      "codemirror_mode": {
        "name": "ipython",
        "version": 3
      },
      "file_extension": ".py",
      "mimetype": "text/x-python",
      "name": "python",
      "nbconvert_exporter": "python",
      "pygments_lexer": "ipython3",
      "version": "3.8.0"
    }
  },
  "cells": [
    {
      "cell_type": "markdown",
      "metadata": {
        "id": "WHSU8NShZedN"
      },
      "source": [
        "![alt text](https://cienciadosdados.com/images/Cpia_de_HEADER.png)"
      ]
    },
    {
      "cell_type": "markdown",
      "metadata": {
        "id": "7oiQVQi0AJ6D"
      },
      "source": [
        "\n",
        "\n",
        "# <font color='Blue'> Venture Capital - Avaliação de Investimentos em Startups </font>  \n",
        "\n",
        "![](https://i.pinimg.com/originals/69/9c/ee/699cee51b6059fe6a5d4ca2f0a89d97a.gif)\n",
        "\n",
        "\n"
      ]
    },
    {
      "cell_type": "markdown",
      "source": [
        "## **Contextualização**"
      ],
      "metadata": {
        "id": "Sinz57egt19j"
      }
    },
    {
      "cell_type": "markdown",
      "source": [
        "![](https://cienciadosdados.com/images/2022/03/o_que__VC.png)\n",
        "\n",
        "![](https://cienciadosdados.com/images/2022/03/VC_X_PE.png)"
      ],
      "metadata": {
        "id": "HxP2wSRchrcQ"
      }
    },
    {
      "cell_type": "markdown",
      "source": [
        "![](https://cienciadosdados.com/images/2022/03/valor-investido-stp.png)"
      ],
      "metadata": {
        "id": "zuJJiF2tqU1i"
      }
    },
    {
      "cell_type": "markdown",
      "source": [
        "![](https://cienciadosdados.com/images/2022/03/soft-stp.png)"
      ],
      "metadata": {
        "id": "rhUFzSk9rhpW"
      }
    },
    {
      "cell_type": "markdown",
      "source": [
        "![](https://cienciadosdados.com/images/2022/03/softbank.png)"
      ],
      "metadata": {
        "id": "oc3bu6HXsh8U"
      }
    },
    {
      "cell_type": "markdown",
      "metadata": {
        "id": "7K8qMC313GIW"
      },
      "source": [
        "SoftBank Group Corp. é uma corporação multinacional japonesa de telecomunicações e Internet, estabelecida em 3 de setembro de 1981 e com sede em Tóquio. Tem operações em banda larga, telecomunicações de linha fixa, comércio eletrônico, serviços de tecnologia, finanças, mídia e marketing, design de semicondutores e outras empresas.[1] A empresa é chefiada pelo fundador Masayoshi Son.\n",
        "\n",
        "A SoftBank foi classificado na lista Forbes Global 2000 como a 62ª maior empresa de capital aberto do mundo[2] e a terceira maior no Japão, após Toyota e Mitsubishi UFJ Financial.[3] Entre 2009 e 2014, a capitalização de mercado da SoftBank aumentou 557%, o quarto maior aumento relativo no mundo durante esse período.[4]"
      ]
    },
    {
      "cell_type": "markdown",
      "source": [
        "![](https://cienciadosdados.com/images/2022/03/distrito.png)"
      ],
      "metadata": {
        "id": "cVF-Z_8Atjq2"
      }
    },
    {
      "cell_type": "markdown",
      "metadata": {
        "id": "28A1XXO92Lo2"
      },
      "source": [
        "# <font color='grey'> **Aula 1 - Resolvendo Problemas de Negócio com Ciência de Dados e Automação** </font>"
      ]
    },
    {
      "cell_type": "markdown",
      "metadata": {
        "id": "Eny3aIZaku8i"
      },
      "source": [
        "#1° Problema de Negócio \n",
        "![](https://i.pinimg.com/originals/78/63/36/7863362124aee1020dd1784a9f95a4ae.gif)\n"
      ]
    },
    {
      "cell_type": "markdown",
      "source": [
        "Você foi contratado como Cientista de Dados pelo SoftBank para desenvolver uma aplicação de Ciência de Dados, cujo objetivo é desenvolver uma metodologia com Machine Learning, para embasar, recomendar o investimento em Startups, de forma automatizada, para serem investidas pelo Venture Capital da Instituição. "
      ],
      "metadata": {
        "id": "z4qBfg7duWYH"
      }
    },
    {
      "cell_type": "markdown",
      "source": [
        "A aplicação tem que ser simples mas com usabilidade bem prática e em ambiente Web. Isso porque os dados das Startups estarão ao alcance dos executivos do Softbank para que sejam realizadas simulações para decidir se deve ou não investir nas Startups."
      ],
      "metadata": {
        "id": "BIbK42q8uyV0"
      }
    },
    {
      "cell_type": "markdown",
      "metadata": {
        "id": "Fsv_E3STqmTg"
      },
      "source": [
        "##### **Fonte dos Dados**"
      ]
    },
    {
      "cell_type": "markdown",
      "metadata": {
        "id": "GFLspIFTEeJN"
      },
      "source": [
        "Usaremos a base de dados \"**venture_capital**\" com a Série Histórica dos Dados de 150 Startups Investidas pelo SoftBank.\n"
      ]
    },
    {
      "cell_type": "markdown",
      "metadata": {
        "id": "C4PaRjZAqwmx"
      },
      "source": [
        "###### **Dicionário dos Dados** \n",
        "\n",
        "* **startup**  : Número de identificação da startup\n",
        "* **Indice_Falencia_Setorial**        : Índice Falências Setorial\n",
        "* **Indice_Faturamento**: Índice faturamento Projetado para a empresa\n",
        "* **Indice_Investimento** : Indice de Investimento Necessário para a Startup se tornar Operacional\n",
        "* **Indice_Expertise_Estrategica**   : Índice referente aos dados de Perfis dos Técnicos da Startup\n",
        "* **Avaliação**       : Resultado da Metodologia tendo como output uma graduação de Riscos (Alto Médio Baixo)"
      ]
    },
    {
      "cell_type": "markdown",
      "metadata": {
        "id": "-O1cmFgSku8j"
      },
      "source": [
        "# 2° Análise Exploratória dos Dados\n",
        "![](https://thumbs.gfycat.com/FavorableDarkDrafthorse-size_restricted.gif)\n",
        "![](https://cdn.dribbble.com/users/720825/screenshots/3253310/slim-jim-_dribbble_-_800x600_.gif)\n"
      ]
    },
    {
      "cell_type": "markdown",
      "source": [
        "### Importação de Pacotes/Bibliotecas para o Trabalho"
      ],
      "metadata": {
        "id": "GSWM9nZ0jxVX"
      }
    },
    {
      "cell_type": "code",
      "metadata": {
        "id": "6BZ-jLOunczC"
      },
      "source": [
        "# Importando Bibliotecas Essenciais\n",
        "import pandas as pd                                       # Pacote de Manipulação de Dados\n",
        "import numpy as np                                        # Pacote para cálculos matemáticos\n",
        "import matplotlib.pyplot as plt                           # Biblioteca de Gráficos\n",
        "import seaborn as sns                                     # Pacote de Gráficos\n",
        "from sklearn.preprocessing import StandardScaler          # Função de Escalonamento dos Dados \n",
        "from sklearn.model_selection import train_test_split      # Função de Amostragem de Dados\n",
        "from sklearn.neighbors import KNeighborsClassifier        # Algoritmo de Machine Learning\n",
        "from sklearn.svm import SVC                               # Algoritmo de Machine Learning\n",
        "from sklearn import metrics                               # Função de Avaliação de resultados\n",
        "%matplotlib inline                                        "
      ],
      "execution_count": 2,
      "outputs": []
    },
    {
      "cell_type": "markdown",
      "source": [
        "### Conexão/Importação dos Dados"
      ],
      "metadata": {
        "id": "uuZT34BTj8IQ"
      }
    },
    {
      "cell_type": "code",
      "metadata": {
        "id": "WKtERLr9n09B"
      },
      "source": [
        "# Se conectando com os dados - Nesse caso, a Fonte de Dados é um Arquivo\n",
        "dataset = pd.read_csv('/content/venture_capital.csv' , delimiter=',')"
      ],
      "execution_count": null,
      "outputs": []
    },
    {
      "cell_type": "code",
      "metadata": {
        "id": "lB0QoX8n3BEs"
      },
      "source": [
        "# Imprime na Tela os primeiros registros\n",
        "dataset.head()"
      ],
      "execution_count": null,
      "outputs": []
    },
    {
      "cell_type": "markdown",
      "source": [
        "### Instalação de Pacote de Automação de Relatórios de Dados"
      ],
      "metadata": {
        "id": "-8LQxotDkDsX"
      }
    },
    {
      "cell_type": "code",
      "metadata": {
        "id": "SYH_vHz8kSwW"
      },
      "source": [
        "#Instalação do Pacote\n",
        "!pip install dataprep"
      ],
      "execution_count": null,
      "outputs": []
    },
    {
      "cell_type": "code",
      "metadata": {
        "id": "FJZOc0aXqybr"
      },
      "source": [
        "# Relatório Automatizado\n",
        "from dataprep.eda import create_report\n",
        "create_report(dataset)"
      ],
      "execution_count": null,
      "outputs": []
    },
    {
      "cell_type": "markdown",
      "metadata": {
        "id": "XcDuCbTG2PSi"
      },
      "source": [
        "# <font color='grey'> **Aula 2 - Construíndo Máquinas Preditivas com Machine Learning** </font>\n",
        "\n",
        "![](data:image/jpeg;base64,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)"
      ]
    }
  ]
}